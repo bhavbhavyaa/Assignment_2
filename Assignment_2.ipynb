{
  "nbformat": 4,
  "nbformat_minor": 0,
  "metadata": {
    "colab": {
      "name": "Assignment 2.ipynb",
      "provenance": [],
      "collapsed_sections": [],
      "authorship_tag": "ABX9TyPB6Yh032ptZiAknLs5/7MI",
      "include_colab_link": true
    },
    "kernelspec": {
      "name": "python3",
      "display_name": "Python 3"
    },
    "language_info": {
      "name": "python"
    }
  },
  "cells": [
    {
      "cell_type": "markdown",
      "metadata": {
        "id": "view-in-github",
        "colab_type": "text"
      },
      "source": [
        "<a href=\"https://colab.research.google.com/github/bhavbhavyaa/Assignment_2/blob/main/Assignment_2.ipynb\" target=\"_parent\"><img src=\"https://colab.research.google.com/assets/colab-badge.svg\" alt=\"Open In Colab\"/></a>"
      ]
    },
    {
      "cell_type": "code",
      "metadata": {
        "id": "iArOS868Dk0b",
        "colab": {
          "base_uri": "https://localhost:8080/",
          "height": 35
        },
        "outputId": "88b68d90-d11a-4c84-d6ee-33b68bfc14db"
      },
      "source": [
        "lambda1 = lambda a:a.split()[0]\n",
        "lambda1(\"Any day without laughter is a day wasted\")"
      ],
      "execution_count": null,
      "outputs": [
        {
          "output_type": "execute_result",
          "data": {
            "application/vnd.google.colaboratory.intrinsic+json": {
              "type": "string"
            },
            "text/plain": [
              "'Any'"
            ]
          },
          "metadata": {
            "tags": []
          },
          "execution_count": 5
        }
      ]
    },
    {
      "cell_type": "code",
      "metadata": {
        "colab": {
          "base_uri": "https://localhost:8080/"
        },
        "id": "A8P-02C9M0bD",
        "outputId": "bd46484f-80a8-4503-fd4e-43c7035e4f3d"
      },
      "source": [
        "def slice(a):\n",
        "  return a.split()[0]\n",
        "string = \"Any day without laughter is a day wasted\"\n",
        "print(slice(string))"
      ],
      "execution_count": null,
      "outputs": [
        {
          "output_type": "stream",
          "text": [
            "Any\n"
          ],
          "name": "stdout"
        }
      ]
    },
    {
      "cell_type": "code",
      "metadata": {
        "colab": {
          "base_uri": "https://localhost:8080/"
        },
        "id": "smefO8YKKupb",
        "outputId": "966eb58d-608d-4b24-b948-be7389d2f5f3"
      },
      "source": [
        "map1 = list(map(lambda a:a.split()[0],[\"You only live once, but if you do it right, once is enough.\",\"Get busy living or get busy dying.\",\"Life is what happens when you’re busy making other plans.\"]))\n",
        "map1"
      ],
      "execution_count": null,
      "outputs": [
        {
          "output_type": "execute_result",
          "data": {
            "text/plain": [
              "['You', 'Get', 'Life']"
            ]
          },
          "metadata": {
            "tags": []
          },
          "execution_count": 9
        }
      ]
    },
    {
      "cell_type": "code",
      "metadata": {
        "colab": {
          "base_uri": "https://localhost:8080/"
        },
        "id": "rM5-Mw6EMV4I",
        "outputId": "97a50852-0187-4156-99c2-1b984916aa05"
      },
      "source": [
        "def prime(n):\n",
        "  list1 = []\n",
        "  for i in range(1,n+1):\n",
        "    if n%i == 0:\n",
        "      list1.append(i)\n",
        "  return list1\n",
        "  \n",
        "prime(12)"
      ],
      "execution_count": null,
      "outputs": [
        {
          "output_type": "execute_result",
          "data": {
            "text/plain": [
              "[1, 2, 3, 4, 6, 12]"
            ]
          },
          "metadata": {
            "tags": []
          },
          "execution_count": 22
        }
      ]
    },
    {
      "cell_type": "code",
      "metadata": {
        "id": "n80OaDRMOPG8"
      },
      "source": [
        "def second_largest(w,x,y,z):\n",
        "  if w>x and w>y and w>z:\n",
        "     if x>y and x>z:\n",
        "       print(x, \"is second largest\")\n",
        "     elif y>x and y>z:\n",
        "       print(y,\"is second largest\")\n",
        "     else:\n",
        "       print(z, \"is second largest\")  \n",
        "  if x>w and x>y and x>z:\n",
        "     if w>y and w>z:\n",
        "       print(w, \"is second largest\")\n",
        "     elif y>w and y>z:\n",
        "       print(y,\"is second largest\")\n",
        "     else:\n",
        "       print(z, \"is second largest\")\n",
        "  if y>w and y>x and y>z:\n",
        "     if w>x and w>z:\n",
        "       print(w, \"is second largest\")\n",
        "     elif x>w and x>z:\n",
        "       print(x,\"is second largest\")\n",
        "     else:\n",
        "       print(z, \"is second largest\")   \n",
        "  if z>w and z>x and z>y:\n",
        "     if w>x and w>y:\n",
        "       print(w, \"is second largest\")\n",
        "     elif x>w and x>y:\n",
        "       print(x,\"is second largest\")\n",
        "     else:\n",
        "       print(y, \"is second largest\")   "
      ],
      "execution_count": null,
      "outputs": []
    },
    {
      "cell_type": "code",
      "metadata": {
        "id": "JrVBX4wyRj83",
        "colab": {
          "base_uri": "https://localhost:8080/"
        },
        "outputId": "4c67ae09-e0e7-4371-fe79-b1d1a21426ba"
      },
      "source": [
        "second_largest(34,67,75,54)"
      ],
      "execution_count": null,
      "outputs": [
        {
          "output_type": "stream",
          "text": [
            "67 is second largest\n"
          ],
          "name": "stdout"
        }
      ]
    },
    {
      "cell_type": "code",
      "metadata": {
        "id": "PzSpRHEbTNzp"
      },
      "source": [
        ""
      ],
      "execution_count": null,
      "outputs": []
    }
  ]
}